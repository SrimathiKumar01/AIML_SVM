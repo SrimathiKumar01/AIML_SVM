{
  "nbformat": 4,
  "nbformat_minor": 0,
  "metadata": {
    "colab": {
      "provenance": [],
      "authorship_tag": "ABX9TyNUhOlDwBxj2N7HAeVubBaA",
      "include_colab_link": true
    },
    "kernelspec": {
      "name": "python3",
      "display_name": "Python 3"
    },
    "language_info": {
      "name": "python"
    }
  },
  "cells": [
    {
      "cell_type": "markdown",
      "metadata": {
        "id": "view-in-github",
        "colab_type": "text"
      },
      "source": [
        "<a href=\"https://colab.research.google.com/github/S-MONISH18/AIML_project/blob/main/23it040_SVM.ipynb\" target=\"_parent\"><img src=\"https://colab.research.google.com/assets/colab-badge.svg\" alt=\"Open In Colab\"/></a>"
      ]
    },
    {
      "cell_type": "code",
      "execution_count": 1,
      "metadata": {
        "id": "wTlIWqI-Kytm"
      },
      "outputs": [],
      "source": [
        "# 📦 Import necessary libraries\n",
        "import pandas as pd, numpy as np\n",
        "import matplotlib.pyplot as plt, seaborn as sns\n",
        "from sklearn.datasets import load_wine, load_iris as skl_iris\n",
        "from sklearn.model_selection import train_test_split, GridSearchCV\n",
        "from sklearn.svm import SVC\n",
        "from sklearn.metrics import accuracy_score, classification_report, confusion_matrix\n"
      ]
    },
    {
      "cell_type": "code",
      "source": [
        "# ⚙️ Define a reusable SVM experiment function\n",
        "def run_svm(X, y, name, rs=42):\n",
        "    # Split dataset: 80% training, 20% testing\n",
        "    Xtr, Xte, ytr, yte = train_test_split(X, y, test_size=0.2, random_state=rs, stratify=y)\n",
        "\n",
        "    # 1️⃣ Compare Linear vs RBF kernels\n",
        "    for k in (\"linear\", \"rbf\"):\n",
        "        model = SVC(kernel=k, random_state=rs).fit(Xtr, ytr)\n",
        "        acc = accuracy_score(yte, model.predict(Xte))\n",
        "        print(f\"{name} | kernel={k:6} | Test Accuracy = {acc:.4f}\")\n",
        "\n",
        "    # 2️⃣ Tune hyperparameters for RBF\n",
        "    grid = GridSearchCV(\n",
        "        SVC(),\n",
        "        {'C': [0.1, 1, 10, 100], 'gamma': [1, 0.1, 0.01, 0.001], 'kernel': ['rbf']},\n",
        "        cv=5,\n",
        "        n_jobs=-1\n",
        "    ).fit(Xtr, ytr)\n",
        "\n",
        "    best = grid.best_estimator_\n",
        "    print(f\"\\n>>> {name} best params: {grid.best_params_} | CV={grid.best_score_:.4f}\")\n",
        "\n",
        "    # 3️⃣ Evaluate best model on test data\n",
        "    ypred = best.predict(Xte)\n",
        "    print(f\">>> {name} test_acc (best): {accuracy_score(yte, ypred):.4f}\\n\")\n",
        "    print(\"Classification Report:\\n\", classification_report(yte, ypred))\n",
        "\n",
        "    # 4️⃣ Confusion matrix visualization\n",
        "    cm = confusion_matrix(yte, ypred)\n",
        "    plt.figure(figsize=(4, 3))\n",
        "    sns.heatmap(cm, annot=True, fmt='d', cmap='Blues')\n",
        "    plt.title(f\"{name} — Confusion Matrix\")\n",
        "    plt.xlabel(\"Predicted\")\n",
        "    plt.ylabel(\"True\")\n",
        "    plt.show()\n",
        "\n",
        "    return dict(name=name, best=grid.best_params_, cv=grid.best_score_, test_acc=accuracy_score(yte, ypred))\n"
      ],
      "metadata": {
        "id": "YZvoNTt4LE6X"
      },
      "execution_count": 3,
      "outputs": []
    },
    {
      "cell_type": "code",
      "source": [
        "# 🌸 Load the Iris dataset\n",
        "try:\n",
        "    iris_url = \"https://raw.githubusercontent.com/mwaskom/seaborn-data/master/iris.csv\"\n",
        "    iris = pd.read_csv(iris_url)\n",
        "    X_iris = iris.drop(columns='species').values\n",
        "    y_iris = iris['species'].astype('category').cat.codes.values\n",
        "    print(\"✅ Loaded Iris dataset from the web.\")\n",
        "except Exception:\n",
        "    print(\"⚠️ Could not load Iris from web — using sklearn fallback.\")\n",
        "    data = skl_iris()\n",
        "    X_iris, y_iris = data.data, data.target\n",
        "\n",
        "# Run SVM experiment\n",
        "res_iris = run_svm(X_iris, y_iris, \"Iris Dataset\")\n"
      ],
      "metadata": {
        "colab": {
          "base_uri": "https://localhost:8080/",
          "height": 645
        },
        "id": "FZld-2cHLJ3Z",
        "outputId": "5f4cb659-c361-4494-9be3-1d20acc18ca8"
      },
      "execution_count": 4,
      "outputs": [
        {
          "output_type": "stream",
          "name": "stdout",
          "text": [
            "✅ Loaded Iris dataset from the web.\n",
            "Iris Dataset | kernel=linear | Test Accuracy = 1.0000\n",
            "Iris Dataset | kernel=rbf    | Test Accuracy = 0.9667\n",
            "\n",
            ">>> Iris Dataset best params: {'C': 1, 'gamma': 0.1, 'kernel': 'rbf'} | CV=0.9833\n",
            ">>> Iris Dataset test_acc (best): 0.9333\n",
            "\n",
            "Classification Report:\n",
            "               precision    recall  f1-score   support\n",
            "\n",
            "           0       1.00      1.00      1.00        10\n",
            "           1       0.90      0.90      0.90        10\n",
            "           2       0.90      0.90      0.90        10\n",
            "\n",
            "    accuracy                           0.93        30\n",
            "   macro avg       0.93      0.93      0.93        30\n",
            "weighted avg       0.93      0.93      0.93        30\n",
            "\n"
          ]
        },
        {
          "output_type": "display_data",
          "data": {
            "text/plain": [
              "<Figure size 400x300 with 2 Axes>"
            ],
            "image/png": "[encoded data removed]"
          },
          "metadata": {}
        }
      ]
    },
    {
      "cell_type": "code",
      "source": [
        "# 🍷 Load the Wine dataset (from sklearn)\n",
        "wine = load_wine()\n",
        "X_wine, y_wine = wine.data, wine.target\n",
        "\n",
        "# Run SVM experiment\n",
        "res_wine = run_svm(X_wine, y_wine, \"Wine Dataset\")\n"
      ],
      "metadata": {
        "colab": {
          "base_uri": "https://localhost:8080/",
          "height": 628
        },
        "id": "Rf5V1CnDLMwS",
        "outputId": "7feb18dd-8a53-41b9-9105-16e5dd2feb4b"
      },
      "execution_count": 5,
      "outputs": [
        {
          "output_type": "stream",
          "name": "stdout",
          "text": [
            "Wine Dataset | kernel=linear | Test Accuracy = 0.9444\n",
            "Wine Dataset | kernel=rbf    | Test Accuracy = 0.6944\n",
            "\n",
            ">>> Wine Dataset best params: {'C': 10, 'gamma': 0.001, 'kernel': 'rbf'} | CV=0.7470\n",
            ">>> Wine Dataset test_acc (best): 0.7778\n",
            "\n",
            "Classification Report:\n",
            "               precision    recall  f1-score   support\n",
            "\n",
            "           0       1.00      1.00      1.00        12\n",
            "           1       0.71      0.71      0.71        14\n",
            "           2       0.60      0.60      0.60        10\n",
            "\n",
            "    accuracy                           0.78        36\n",
            "   macro avg       0.77      0.77      0.77        36\n",
            "weighted avg       0.78      0.78      0.78        36\n",
            "\n"
          ]
        },
        {
          "output_type": "display_data",
          "data": {
            "text/plain": [
              "<Figure size 400x300 with 2 Axes>"
            ],
            "image/png": "[encoded data removed]"
          },
          "metadata": {}
        }
      ]
    },
    {
      "cell_type": "code",
      "source": [
        "# Print summary of best models and accuracies\n",
        "print(\"\\nSummary of SVM Results:\")\n",
        "print(\"Iris:\", res_iris)\n",
        "print(\"Wine:\", res_wine)\n"
      ],
      "metadata": {
        "colab": {
          "base_uri": "https://localhost:8080/"
        },
        "id": "4SyGatRDLS35",
        "outputId": "aa28c0ce-f53e-4bcb-8be3-f75f0dd6fa61"
      },
      "execution_count": 6,
      "outputs": [
        {
          "output_type": "stream",
          "name": "stdout",
          "text": [
            "\n",
            "Summary of SVM Results:\n",
            "Iris: {'name': 'Iris Dataset', 'best': {'C': 1, 'gamma': 0.1, 'kernel': 'rbf'}, 'cv': np.float64(0.9833333333333334), 'test_acc': 0.9333333333333333}\n",
            "Wine: {'name': 'Wine Dataset', 'best': {'C': 10, 'gamma': 0.001, 'kernel': 'rbf'}, 'cv': np.float64(0.7470443349753694), 'test_acc': 0.7777777777777778}\n"
          ]
        }
      ]
    }
  ]
}